{
 "cells": [
  {
   "cell_type": "markdown",
   "id": "f5791a7b",
   "metadata": {},
   "source": [
    "# 1. pymysql 모듈 이해 및 실습\n",
    "\n",
    "## 1.1 pymysql 라이브러리 소개 및 설치\n",
    "\n",
    "* mysql을 python에서 사용할 수 있는 라이브러리\n",
    "* 일반적인 mysql 핸들링 코드 작성 순서 \n",
    "  1. pymysql 모듈 import\n",
    "  2. pymysql.connect()메소드를 사용하여 MySql에 연결\n",
    "  3. MySql 접속이 성공하면, connection 객체로부터 cursor() 메소드를 호출\n",
    "  4. cursor 객체의 execute() 메소드를 사용하여 sql 문장을 db서버에 전송\n",
    "  6. 삽입, 갱신, 삭제 등의 dml 문장을 실행 commit()사용\n",
    "  7. close() 메서드를 사용하여 db 연결 닫음\n",
    "  "
   ]
  },
  {
   "cell_type": "code",
   "execution_count": 1,
   "id": "75487120",
   "metadata": {},
   "outputs": [],
   "source": [
    "import pymysql"
   ]
  },
  {
   "cell_type": "markdown",
   "id": "dae733ac",
   "metadata": {},
   "source": [
    "* pymysql.connect() 메소드를 사용하여 MySql에 연결\n",
    "* 호스트명, 포트, 로그인, 암호 접속할 DB 등을 파라미터로 지정\n",
    "  "
   ]
  },
  {
   "cell_type": "code",
   "execution_count": 2,
   "id": "e00bf709",
   "metadata": {},
   "outputs": [],
   "source": [
    "db = pymysql.connect(host='localhost',\n",
    "                           user='root',\n",
    "                           password='0729tlsehd',\n",
    "                           charset='utf8')"
   ]
  },
  {
   "cell_type": "code",
   "execution_count": 3,
   "id": "2884a79e",
   "metadata": {},
   "outputs": [
    {
     "data": {
      "text/plain": [
       "<pymysql.connections.Connection at 0x7f8660368a90>"
      ]
     },
     "execution_count": 3,
     "metadata": {},
     "output_type": "execute_result"
    }
   ],
   "source": [
    "db"
   ]
  },
  {
   "cell_type": "markdown",
   "id": "fb00948d",
   "metadata": {},
   "source": [
    "* mysql 접속이 성공하면, connection 객체로부터 cursor() 메소드를 호출하여 cursor 객체를 가져옴\n",
    "* cursor 객체의 execute()메소드를 사용하여 sql 문장을 db 서버에 전송\n"
   ]
  },
  {
   "cell_type": "code",
   "execution_count": 4,
   "id": "d947e13d",
   "metadata": {},
   "outputs": [],
   "source": [
    "cursor = db.cursor()"
   ]
  },
  {
   "cell_type": "code",
   "execution_count": 5,
   "id": "ed28b762",
   "metadata": {},
   "outputs": [
    {
     "data": {
      "text/plain": [
       "1"
      ]
     },
     "execution_count": 5,
     "metadata": {},
     "output_type": "execute_result"
    }
   ],
   "source": [
    "sql = \"create database IF NOT EXISTS ecommerce\"\n",
    "cursor.execute(sql)"
   ]
  },
  {
   "cell_type": "code",
   "execution_count": 8,
   "id": "c0bda0f2",
   "metadata": {},
   "outputs": [
    {
     "data": {
      "text/plain": [
       "(('ecommerce',),\n",
       " ('employees',),\n",
       " ('information_schema',),\n",
       " ('my_emp',),\n",
       " ('mysql',),\n",
       " ('performance_schema',),\n",
       " ('shopdb',),\n",
       " ('STUDENTS',),\n",
       " ('sys',))"
      ]
     },
     "execution_count": 8,
     "metadata": {},
     "output_type": "execute_result"
    }
   ],
   "source": [
    "sql = 'show databases'\n",
    "cursor.execute(sql)\n",
    "result = cursor.fetchall()\n",
    "result\n"
   ]
  },
  {
   "cell_type": "code",
   "execution_count": 9,
   "id": "2e24d8bb",
   "metadata": {},
   "outputs": [
    {
     "data": {
      "text/plain": [
       "0"
      ]
     },
     "execution_count": 9,
     "metadata": {},
     "output_type": "execute_result"
    }
   ],
   "source": [
    "# db 변경 \n",
    "sql = 'use ecommerce'\n",
    "cursor.execute(sql)\n",
    "\n",
    "\n"
   ]
  },
  {
   "cell_type": "code",
   "execution_count": 10,
   "id": "f5f3f3ee",
   "metadata": {},
   "outputs": [
    {
     "data": {
      "text/plain": [
       "('ecommerce',)"
      ]
     },
     "execution_count": 10,
     "metadata": {},
     "output_type": "execute_result"
    }
   ],
   "source": [
    "#현재 db 확인\n",
    "sql = 'select database()'\n",
    "cursor.execute(sql)\n",
    "result = cursor.fetchone()\n",
    "result"
   ]
  },
  {
   "cell_type": "markdown",
   "id": "5b1a1fcf",
   "metadata": {},
   "source": [
    "* cursor 는 control structure database 임"
   ]
  },
  {
   "cell_type": "code",
   "execution_count": 12,
   "id": "e79cc3b4",
   "metadata": {},
   "outputs": [],
   "source": [
    "sql = \"\"\"\n",
    "    CREATE TABLE product(\n",
    "    PRODUCT_CODE VARCHAR(20) NOT NULL,\n",
    "    TITLE VARCHAR(200) NOT NULL,\n",
    "    ORI_PRICE INT,\n",
    "    DISCOUNT_PRICE INT,\n",
    "    DISCOUNT_PERCENT INT,\n",
    "    DELIVERY VARCHAR(2),\n",
    "    PRIMARY KEY(PRODUCT_CODE)\n",
    "    );\n",
    "\"\"\"\n"
   ]
  },
  {
   "cell_type": "markdown",
   "id": "95978773",
   "metadata": {},
   "source": [
    "SQL 실행 (Cursor 객체의 execute() 메소드를 사용하여 INSERT, UPDATE 혹은 DELETE 문장을 DB서버에 보냄)"
   ]
  },
  {
   "cell_type": "code",
   "execution_count": 13,
   "id": "84ae699f",
   "metadata": {},
   "outputs": [
    {
     "data": {
      "text/plain": [
       "0"
      ]
     },
     "execution_count": 13,
     "metadata": {},
     "output_type": "execute_result"
    }
   ],
   "source": [
    "cursor.execute(sql)"
   ]
  },
  {
   "cell_type": "code",
   "execution_count": 14,
   "id": "755d214d",
   "metadata": {},
   "outputs": [
    {
     "data": {
      "text/plain": [
       "(('product',),)"
      ]
     },
     "execution_count": 14,
     "metadata": {},
     "output_type": "execute_result"
    }
   ],
   "source": [
    "sql = 'show tables'\n",
    "cursor.execute(sql)\n",
    "result = cursor.fetchall()\n",
    "result"
   ]
  },
  {
   "cell_type": "markdown",
   "id": "e200976c",
   "metadata": {},
   "source": [
    "* 삽입, 갱신, 삭제 등이 모두 끝났으면 Connection 객체의 commit()메서드를 사용하여 commit"
   ]
  },
  {
   "cell_type": "code",
   "execution_count": 15,
   "id": "8cdf8794",
   "metadata": {},
   "outputs": [],
   "source": [
    "db.close() # 연결 종료"
   ]
  },
  {
   "cell_type": "markdown",
   "id": "8c31167b",
   "metadata": {},
   "source": [
    "## 1.2 패턴으로 익히는 pymysql"
   ]
  },
  {
   "cell_type": "code",
   "execution_count": 17,
   "id": "e640ee28",
   "metadata": {},
   "outputs": [],
   "source": [
    "#1 라이브러리 가져오기\n",
    "import pymysql\n",
    "\n",
    "#2 접속하기\n",
    "db = pymysql.connect(host='localhost',\n",
    "                           user='root',\n",
    "                           password='0729tlsehd',\n",
    "                           db='ecommerce',\n",
    "                           charset='utf8')"
   ]
  },
  {
   "cell_type": "code",
   "execution_count": 18,
   "id": "31e90b21",
   "metadata": {},
   "outputs": [],
   "source": [
    "# 3 커서 가져오기\n",
    "cursor = db.cursor()"
   ]
  },
  {
   "cell_type": "code",
   "execution_count": 22,
   "id": "6b16838c",
   "metadata": {},
   "outputs": [],
   "source": [
    "# 4 sql 구문 만들기 (CRUD SQL 구문 등)\n",
    "sql = '''\n",
    "    CREATE TABLE product2(\n",
    "        PRODUCT_CODE VARCHAR(20) NOT NULL,\n",
    "        TITLE VARCHAR(200) NOT NULL,\n",
    "        ORI_PRICE INT,\n",
    "        DISCOUNT_PRICE INT,\n",
    "        DISCOUNT_PERCENT INT,\n",
    "        DELIVERY VARCHAR(2),\n",
    "        PRIMARY KEY(PRODUCT_CODE)\n",
    "    );\n",
    "'''"
   ]
  },
  {
   "cell_type": "code",
   "execution_count": 23,
   "id": "75ed176a",
   "metadata": {},
   "outputs": [
    {
     "data": {
      "text/plain": [
       "0"
      ]
     },
     "execution_count": 23,
     "metadata": {},
     "output_type": "execute_result"
    }
   ],
   "source": [
    "#5 sql 구문 실행하기\n",
    "cursor.execute(sql)"
   ]
  },
  {
   "cell_type": "code",
   "execution_count": 24,
   "id": "c46653ac",
   "metadata": {},
   "outputs": [],
   "source": [
    "#6 db에 commit 하기\n",
    "db.commit()"
   ]
  },
  {
   "cell_type": "code",
   "execution_count": 25,
   "id": "e8b4c9a8",
   "metadata": {},
   "outputs": [],
   "source": [
    "#7 db 연결 닫기\n",
    "db.close()"
   ]
  },
  {
   "cell_type": "markdown",
   "id": "9accd373",
   "metadata": {},
   "source": [
    "* 데이터 삽입(INSERT)\n",
    "  - cursor object 가져오기 : db.cursor()\n",
    "  - sql 실행하기 : cursor.execute(sql)\n",
    "  - 실행 mysql 서버에 확정 반영하기: db.commit()"
   ]
  },
  {
   "cell_type": "code",
   "execution_count": 26,
   "id": "6082e135",
   "metadata": {},
   "outputs": [],
   "source": [
    "#1 라이브러리 가져오기\n",
    "import pymysql\n",
    "\n",
    "#2 접속하기\n",
    "db = pymysql.connect(host='localhost',\n",
    "                           user='root',\n",
    "                           password='0729tlsehd',\n",
    "                           db='ecommerce',\n",
    "                           charset='utf8')"
   ]
  },
  {
   "cell_type": "code",
   "execution_count": 27,
   "id": "37bd2676",
   "metadata": {},
   "outputs": [],
   "source": [
    "#3 커서 가져오기\n",
    "cursor = db.cursor()"
   ]
  },
  {
   "cell_type": "code",
   "execution_count": 28,
   "id": "15ecf722",
   "metadata": {},
   "outputs": [
    {
     "name": "stdout",
     "output_type": "stream",
     "text": [
      "INSERT INTO product2 VALUES(\n",
      "    '216573141','스위트바니 여름신상5900원~롱원피스티셔츠/긴팔/반팔', 2300, 6900, 70, 'F');\n",
      "INSERT INTO product2 VALUES(\n",
      "    '216573142','스위트바니 여름신상5900원~롱원피스티셔츠/긴팔/반팔', 2300, 6900, 70, 'F');\n",
      "INSERT INTO product2 VALUES(\n",
      "    '216573143','스위트바니 여름신상5900원~롱원피스티셔츠/긴팔/반팔', 2300, 6900, 70, 'F');\n",
      "INSERT INTO product2 VALUES(\n",
      "    '216573144','스위트바니 여름신상5900원~롱원피스티셔츠/긴팔/반팔', 2300, 6900, 70, 'F');\n",
      "INSERT INTO product2 VALUES(\n",
      "    '216573145','스위트바니 여름신상5900원~롱원피스티셔츠/긴팔/반팔', 2300, 6900, 70, 'F');\n",
      "INSERT INTO product2 VALUES(\n",
      "    '216573146','스위트바니 여름신상5900원~롱원피스티셔츠/긴팔/반팔', 2300, 6900, 70, 'F');\n",
      "INSERT INTO product2 VALUES(\n",
      "    '216573147','스위트바니 여름신상5900원~롱원피스티셔츠/긴팔/반팔', 2300, 6900, 70, 'F');\n",
      "INSERT INTO product2 VALUES(\n",
      "    '216573148','스위트바니 여름신상5900원~롱원피스티셔츠/긴팔/반팔', 2300, 6900, 70, 'F');\n",
      "INSERT INTO product2 VALUES(\n",
      "    '216573149','스위트바니 여름신상5900원~롱원피스티셔츠/긴팔/반팔', 2300, 6900, 70, 'F');\n",
      "INSERT INTO product2 VALUES(\n",
      "    '216573150','스위트바니 여름신상5900원~롱원피스티셔츠/긴팔/반팔', 2300, 6900, 70, 'F');\n"
     ]
    }
   ],
   "source": [
    "for index in range(10):\n",
    "    product_code = 216573140 + index + 1\n",
    "    # print(procudt_code)\n",
    "    sql = \"\"\"INSERT INTO product2 VALUES(\n",
    "    '\"\"\"+str(product_code)+\"\"\"','스위트바니 여름신상5900원~롱원피스티셔츠/긴팔/반팔', 2300, 6900, 70, 'F');\"\"\"\n",
    "    print(sql)\n",
    "    cursor.execute(sql)\n",
    "    "
   ]
  },
  {
   "cell_type": "code",
   "execution_count": 29,
   "id": "ed3bdf4a",
   "metadata": {},
   "outputs": [],
   "source": [
    "db.commit() # 입력된 데이터를 db 서버에 확정 시키기"
   ]
  },
  {
   "cell_type": "code",
   "execution_count": 30,
   "id": "598c3ecd",
   "metadata": {},
   "outputs": [
    {
     "data": {
      "text/plain": [
       "<bound method Connection.close of <pymysql.connections.Connection object at 0x7f866037e520>>"
      ]
     },
     "execution_count": 30,
     "metadata": {},
     "output_type": "execute_result"
    }
   ],
   "source": [
    "db.close"
   ]
  },
  {
   "cell_type": "markdown",
   "id": "9db99a04",
   "metadata": {},
   "source": [
    "* 데이터 조회(SELECT)\n",
    "  - cursor object 가져오기 cursor = db.cursor()\n",
    "  - sql 실행하기 : cursor.execute(sql)\n",
    "  - mysql 서버로부터 데이터 가져오기 : fetch 메서드 사용\n",
    "    - fetchall(): fetch all the rows\n",
    "    - fetchmany(size=None): Fetch several rows\n",
    "    - fetchone(): Fetch the next row"
   ]
  },
  {
   "cell_type": "code",
   "execution_count": 31,
   "id": "bb2c1ad5",
   "metadata": {},
   "outputs": [],
   "source": [
    "import pymysql\n",
    "db = pymysql.connect(host='localhost',\n",
    "                           user='root',\n",
    "                           password='0729tlsehd',\n",
    "                           db='ecommerce',\n",
    "                           charset='utf8')\n",
    "cursor = db.cursor()"
   ]
  },
  {
   "cell_type": "code",
   "execution_count": 32,
   "id": "3e6347f6",
   "metadata": {},
   "outputs": [
    {
     "data": {
      "text/plain": [
       "10"
      ]
     },
     "execution_count": 32,
     "metadata": {},
     "output_type": "execute_result"
    }
   ],
   "source": [
    "sql = 'select * from product2'\n",
    "cursor.execute(sql)"
   ]
  },
  {
   "cell_type": "code",
   "execution_count": 33,
   "id": "75f2271e",
   "metadata": {},
   "outputs": [
    {
     "data": {
      "text/plain": [
       "('216573141', '스위트바니 여름신상5900원~롱원피스티셔츠/긴팔/반팔', 2300, 6900, 70, 'F')"
      ]
     },
     "execution_count": 33,
     "metadata": {},
     "output_type": "execute_result"
    }
   ],
   "source": [
    "result = cursor.fetchone() # 현재 커서를 다음 레코드로 이동시키고 해당 레코드를 반환\n",
    "result"
   ]
  },
  {
   "cell_type": "code",
   "execution_count": 34,
   "id": "448cd9e2",
   "metadata": {},
   "outputs": [
    {
     "data": {
      "text/plain": [
       "(('216573142', '스위트바니 여름신상5900원~롱원피스티셔츠/긴팔/반팔', 2300, 6900, 70, 'F'),\n",
       " ('216573143', '스위트바니 여름신상5900원~롱원피스티셔츠/긴팔/반팔', 2300, 6900, 70, 'F'),\n",
       " ('216573144', '스위트바니 여름신상5900원~롱원피스티셔츠/긴팔/반팔', 2300, 6900, 70, 'F'),\n",
       " ('216573145', '스위트바니 여름신상5900원~롱원피스티셔츠/긴팔/반팔', 2300, 6900, 70, 'F'),\n",
       " ('216573146', '스위트바니 여름신상5900원~롱원피스티셔츠/긴팔/반팔', 2300, 6900, 70, 'F'),\n",
       " ('216573147', '스위트바니 여름신상5900원~롱원피스티셔츠/긴팔/반팔', 2300, 6900, 70, 'F'),\n",
       " ('216573148', '스위트바니 여름신상5900원~롱원피스티셔츠/긴팔/반팔', 2300, 6900, 70, 'F'),\n",
       " ('216573149', '스위트바니 여름신상5900원~롱원피스티셔츠/긴팔/반팔', 2300, 6900, 70, 'F'),\n",
       " ('216573150', '스위트바니 여름신상5900원~롱원피스티셔츠/긴팔/반팔', 2300, 6900, 70, 'F'))"
      ]
     },
     "execution_count": 34,
     "metadata": {},
     "output_type": "execute_result"
    }
   ],
   "source": [
    "result = cursor.fetchall()\n",
    "result"
   ]
  },
  {
   "cell_type": "code",
   "execution_count": 35,
   "id": "561071d7",
   "metadata": {},
   "outputs": [],
   "source": [
    "db.close()"
   ]
  },
  {
   "cell_type": "markdown",
   "id": "416c66dd",
   "metadata": {},
   "source": [
    "* 데이터 수정(UPDATE)\n",
    "  - cursor object 가져오기 cursor = db.cursor()\n",
    "  - sql 실행하기 : cursor.execute(sql)\n",
    "  - 실행 mysql 서버에 확정 반영하기 : db.commit()"
   ]
  },
  {
   "cell_type": "code",
   "execution_count": 36,
   "id": "2538660a",
   "metadata": {},
   "outputs": [],
   "source": [
    "import pymysql\n",
    "db = pymysql.connect(host='localhost',\n",
    "                           user='root',\n",
    "                           password='0729tlsehd',\n",
    "                           db='ecommerce',\n",
    "                           charset='utf8')\n",
    "cursor = db.cursor()"
   ]
  },
  {
   "cell_type": "code",
   "execution_count": 38,
   "id": "a468da27",
   "metadata": {},
   "outputs": [],
   "source": [
    "sql = \"\"\"\n",
    "UPDATE product2 SET\n",
    "    TITLE='하늘하늘 원피스 썸머 스페셜 가디건',\n",
    "    ORI_PRICE = 33000,\n",
    "    DISCOUNT_PRICE = 9900,\n",
    "    DISCOUNT_PERCENT =70\n",
    "    WHERE PRODUCT_CODE='216573141'\n",
    "\"\"\"\n",
    "cursor.execute(sql)\n",
    "\n",
    "db.commit()"
   ]
  },
  {
   "cell_type": "code",
   "execution_count": 40,
   "id": "c0f98ebd",
   "metadata": {},
   "outputs": [
    {
     "data": {
      "text/plain": [
       "('216573141', '하늘하늘 원피스 썸머 스페셜 가디건', 33000, 9900, 70, 'F')"
      ]
     },
     "execution_count": 40,
     "metadata": {},
     "output_type": "execute_result"
    }
   ],
   "source": [
    "# update 확인\n",
    "sql = \"select * from product2 where product_code='216573141'\"\n",
    "cursor.execute(sql)\n",
    "result = cursor.fetchone()\n",
    "result"
   ]
  },
  {
   "cell_type": "code",
   "execution_count": 41,
   "id": "fe3ba7bd",
   "metadata": {},
   "outputs": [],
   "source": [
    "db.close()"
   ]
  },
  {
   "cell_type": "markdown",
   "id": "4beba8fb",
   "metadata": {},
   "source": [
    "* 데이터 삭제(DELETE)\n",
    "  - cursor object 가져오기 cursor = db.cursor()\n",
    "  - sql 실행하기 : cursor.execute(sql)\n",
    "  - 실행 mysql 서버에 확정 반영하기 : db.commit()"
   ]
  },
  {
   "cell_type": "code",
   "execution_count": 42,
   "id": "96bb721f",
   "metadata": {},
   "outputs": [],
   "source": [
    "import pymysql\n",
    "db = pymysql.connect(host='localhost',\n",
    "                           user='root',\n",
    "                           password='0729tlsehd',\n",
    "                           db='ecommerce',\n",
    "                           charset='utf8')\n",
    "cursor = db.cursor()"
   ]
  },
  {
   "cell_type": "code",
   "execution_count": 44,
   "id": "c020459a",
   "metadata": {},
   "outputs": [],
   "source": [
    "sql = \"DELETE FROM product WHERE product_code='216573141'\"\n",
    "cursor.execute(sql)\n",
    "db.commit()\n",
    "db.close()\n"
   ]
  },
  {
   "cell_type": "code",
   "execution_count": 45,
   "id": "7e4b15de",
   "metadata": {},
   "outputs": [
    {
     "name": "stdout",
     "output_type": "stream",
     "text": [
      "None\n"
     ]
    }
   ],
   "source": [
    "db = pymysql.connect(host='localhost',\n",
    "                           user='root',\n",
    "                           password='0729tlsehd',\n",
    "                           db='ecommerce',\n",
    "                           charset='utf8')\n",
    "cursor = db.cursor()\n",
    "\n",
    "sql =\"\"\"select *FROM product WHERE PRODUCT_CODE='216573141'\"\"\"\n",
    "\n",
    "cursor.execute(sql)\n",
    "result = cursor.fetchone()\n",
    "print(result)\n",
    "db.commit()\n",
    "db.close()"
   ]
  },
  {
   "cell_type": "code",
   "execution_count": null,
   "id": "887d9f25",
   "metadata": {},
   "outputs": [],
   "source": []
  }
 ],
 "metadata": {
  "kernelspec": {
   "display_name": "Python 3 (ipykernel)",
   "language": "python",
   "name": "python3"
  },
  "language_info": {
   "codemirror_mode": {
    "name": "ipython",
    "version": 3
   },
   "file_extension": ".py",
   "mimetype": "text/x-python",
   "name": "python",
   "nbconvert_exporter": "python",
   "pygments_lexer": "ipython3",
   "version": "3.9.13"
  }
 },
 "nbformat": 4,
 "nbformat_minor": 5
}
