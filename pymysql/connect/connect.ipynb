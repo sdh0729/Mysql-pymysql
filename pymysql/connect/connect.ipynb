{
 "cells": [
  {
   "cell_type": "code",
   "execution_count": 10,
   "id": "e901fe51",
   "metadata": {},
   "outputs": [
    {
     "name": "stdout",
     "output_type": "stream",
     "text": [
      "Requirement already satisfied: PyMySQL in /Users/dhshin/.conda/envs/python/lib/python3.9/site-packages (1.0.2)\n",
      "Note: you may need to restart the kernel to use updated packages.\n"
     ]
    }
   ],
   "source": [
    "#pip install PyMySQL"
   ]
  },
  {
   "cell_type": "code",
   "execution_count": 4,
   "id": "09d2a60b",
   "metadata": {},
   "outputs": [],
   "source": [
    "import pymysql\n",
    "#임포트 -> connect -> 'cursor'객체 생성 -> 쿼리 작성 실행 cursor.execute()->commit() \n",
    "#-> fetchall(), fetchchone(),fetchmany(n)->close\n"
   ]
  },
  {
   "cell_type": "code",
   "execution_count": 22,
   "id": "d8ef4c7c",
   "metadata": {},
   "outputs": [],
   "source": [
    "con = pymysql.connect(host='localhost',\n",
    "                           user='root',\n",
    "                           password='0729tlsehd',\n",
    "                           database='my_emp',\n",
    "                           charset='utf8',\n",
    "                           autocommit='True')#-> mysql -h localhost -u root -p"
   ]
  },
  {
   "cell_type": "code",
   "execution_count": 8,
   "id": "a82cebc8",
   "metadata": {},
   "outputs": [],
   "source": [
    "#print(con)\n",
    "#print(dir(con)"
   ]
  },
  {
   "cell_type": "code",
   "execution_count": 14,
   "id": "09d70d18",
   "metadata": {},
   "outputs": [],
   "source": [
    "#'cursor' 객체 생성\n",
    "cur = con.cursor()"
   ]
  },
  {
   "cell_type": "code",
   "execution_count": 15,
   "id": "897fee66",
   "metadata": {},
   "outputs": [
    {
     "data": {
      "text/plain": [
       "14"
      ]
     },
     "execution_count": 15,
     "metadata": {},
     "output_type": "execute_result"
    }
   ],
   "source": [
    "#쿼리작성 실행 cursor.execute()\n",
    "sql = 'select ename, empno from emp'\n",
    "cur.execute(sql)"
   ]
  },
  {
   "cell_type": "code",
   "execution_count": 23,
   "id": "03f20aba",
   "metadata": {},
   "outputs": [
    {
     "name": "stdout",
     "output_type": "stream",
     "text": [
      "()\n"
     ]
    }
   ],
   "source": [
    "#fetchall()\n",
    "row_res=cur.fetchall()\n",
    "print(row_res)\n",
    "con.close()"
   ]
  },
  {
   "cell_type": "code",
   "execution_count": 18,
   "id": "6e64725e",
   "metadata": {},
   "outputs": [],
   "source": [
    "import pandas as pd"
   ]
  },
  {
   "cell_type": "code",
   "execution_count": 19,
   "id": "5cbc1a5b",
   "metadata": {},
   "outputs": [
    {
     "data": {
      "text/html": [
       "<div>\n",
       "<style scoped>\n",
       "    .dataframe tbody tr th:only-of-type {\n",
       "        vertical-align: middle;\n",
       "    }\n",
       "\n",
       "    .dataframe tbody tr th {\n",
       "        vertical-align: top;\n",
       "    }\n",
       "\n",
       "    .dataframe thead th {\n",
       "        text-align: right;\n",
       "    }\n",
       "</style>\n",
       "<table border=\"1\" class=\"dataframe\">\n",
       "  <thead>\n",
       "    <tr style=\"text-align: right;\">\n",
       "      <th></th>\n",
       "      <th>0</th>\n",
       "      <th>1</th>\n",
       "    </tr>\n",
       "  </thead>\n",
       "  <tbody>\n",
       "    <tr>\n",
       "      <th>0</th>\n",
       "      <td>SMITH</td>\n",
       "      <td>7369</td>\n",
       "    </tr>\n",
       "    <tr>\n",
       "      <th>1</th>\n",
       "      <td>ALLEN</td>\n",
       "      <td>7499</td>\n",
       "    </tr>\n",
       "    <tr>\n",
       "      <th>2</th>\n",
       "      <td>WARD</td>\n",
       "      <td>7521</td>\n",
       "    </tr>\n",
       "    <tr>\n",
       "      <th>3</th>\n",
       "      <td>JONES</td>\n",
       "      <td>7566</td>\n",
       "    </tr>\n",
       "    <tr>\n",
       "      <th>4</th>\n",
       "      <td>MARTIN</td>\n",
       "      <td>7654</td>\n",
       "    </tr>\n",
       "    <tr>\n",
       "      <th>5</th>\n",
       "      <td>BLAKE</td>\n",
       "      <td>7698</td>\n",
       "    </tr>\n",
       "    <tr>\n",
       "      <th>6</th>\n",
       "      <td>CLARK</td>\n",
       "      <td>7782</td>\n",
       "    </tr>\n",
       "    <tr>\n",
       "      <th>7</th>\n",
       "      <td>SCOTT</td>\n",
       "      <td>7788</td>\n",
       "    </tr>\n",
       "    <tr>\n",
       "      <th>8</th>\n",
       "      <td>KING</td>\n",
       "      <td>7839</td>\n",
       "    </tr>\n",
       "    <tr>\n",
       "      <th>9</th>\n",
       "      <td>TURNER</td>\n",
       "      <td>7844</td>\n",
       "    </tr>\n",
       "    <tr>\n",
       "      <th>10</th>\n",
       "      <td>ADAMS</td>\n",
       "      <td>7876</td>\n",
       "    </tr>\n",
       "    <tr>\n",
       "      <th>11</th>\n",
       "      <td>JAMES</td>\n",
       "      <td>7900</td>\n",
       "    </tr>\n",
       "    <tr>\n",
       "      <th>12</th>\n",
       "      <td>FORD</td>\n",
       "      <td>7902</td>\n",
       "    </tr>\n",
       "    <tr>\n",
       "      <th>13</th>\n",
       "      <td>MILLER</td>\n",
       "      <td>7934</td>\n",
       "    </tr>\n",
       "  </tbody>\n",
       "</table>\n",
       "</div>"
      ],
      "text/plain": [
       "         0     1\n",
       "0    SMITH  7369\n",
       "1    ALLEN  7499\n",
       "2     WARD  7521\n",
       "3    JONES  7566\n",
       "4   MARTIN  7654\n",
       "5    BLAKE  7698\n",
       "6    CLARK  7782\n",
       "7    SCOTT  7788\n",
       "8     KING  7839\n",
       "9   TURNER  7844\n",
       "10   ADAMS  7876\n",
       "11   JAMES  7900\n",
       "12    FORD  7902\n",
       "13  MILLER  7934"
      ]
     },
     "execution_count": 19,
     "metadata": {},
     "output_type": "execute_result"
    }
   ],
   "source": [
    "my_res = pd.DataFrame(row_res)\n",
    "my_res"
   ]
  },
  {
   "cell_type": "code",
   "execution_count": 30,
   "id": "f3f1a106",
   "metadata": {},
   "outputs": [
    {
     "name": "stdout",
     "output_type": "stream",
     "text": [
      "((1, '홍길동', Decimal('800.00'), datetime.date(2023, 1, 5)), (1, '홍길동', Decimal('800.00'), datetime.date(2023, 1, 5)), (1, '홍길동', Decimal('800.00'), datetime.date(2023, 1, 5)), (1, '홍길동', Decimal('800.00'), datetime.date(2023, 1, 5)), (1, '홍길동', Decimal('800.00'), datetime.date(2023, 1, 5)), (1, '홍길동', Decimal('800.00'), datetime.date(2023, 1, 5)), (1, '홍길동', Decimal('800.00'), datetime.date(2023, 1, 5)))\n"
     ]
    },
    {
     "data": {
      "text/plain": [
       "<bound method Connection.close of <pymysql.connections.Connection object at 0x7f9351332b20>>"
      ]
     },
     "execution_count": 30,
     "metadata": {},
     "output_type": "execute_result"
    }
   ],
   "source": [
    "#2. 쿼리작성 my_emp 에다가 데이터를 입력해보자. 1, 홍길동, 800, 오늘날짜 \n",
    "con = pymysql.connect(host='localhost',\n",
    "                           user='root',\n",
    "                           password='0729tlsehd',\n",
    "                           database='my_emp',\n",
    "                           charset='utf8')\n",
    "cur = con.cursor()\n",
    "sql = 'insert into my_emp(empno,ename,sal,hiredate)values(%s,%s,%s,now())'\n",
    "cur.execute(sql,('1','홍길동',800))\n",
    "con.commit();\n",
    "with con.cursor() as cursor:\n",
    "    sql = 'SELECT empno,ename,sal,hiredate FROM my_emp WHERE empno=%s'\n",
    "    cursor.execute(sql,('1'))\n",
    "    result = cursor.fetchall()\n",
    "    print(result)\n",
    "con.close"
   ]
  },
  {
   "cell_type": "code",
   "execution_count": null,
   "id": "097963fd",
   "metadata": {},
   "outputs": [],
   "source": [
    "import pandas as pd\n",
    "import pymysql.cursors\n",
    "\n",
    "class MyClass:\n",
    "    def __init__(self):\n",
    "        self.mconpymysql.connect(host='localhost',\n",
    "                           user='root',\n",
    "                           password='0729tlsehd',\n",
    "                           database='my_emp',\n",
    "                           charset='utf8',\n",
    "                           autocommit=False)\n",
    "    def myexport_csv(self):\n",
    "        exam_sql = 'select * from my_emp where empno=1'"
   ]
  },
  {
   "cell_type": "code",
   "execution_count": null,
   "id": "5c061eb1",
   "metadata": {},
   "outputs": [],
   "source": []
  }
 ],
 "metadata": {
  "kernelspec": {
   "display_name": "Python 3 (ipykernel)",
   "language": "python",
   "name": "python3"
  },
  "language_info": {
   "codemirror_mode": {
    "name": "ipython",
    "version": 3
   },
   "file_extension": ".py",
   "mimetype": "text/x-python",
   "name": "python",
   "nbconvert_exporter": "python",
   "pygments_lexer": "ipython3",
   "version": "3.9.13"
  }
 },
 "nbformat": 4,
 "nbformat_minor": 5
}
